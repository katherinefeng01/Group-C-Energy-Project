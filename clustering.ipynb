{
 "cells": [
  {
   "cell_type": "code",
   "execution_count": 34,
   "id": "ea610cb6-eb1e-47b7-ab42-3510c49159ee",
   "metadata": {},
   "outputs": [],
   "source": [
    "import pandas as pd\n",
    "import matplotlib.pyplot as plt\n",
    "from sklearn.cluster import KMeans"
   ]
  },
  {
   "cell_type": "code",
   "execution_count": 35,
   "id": "e2322cc0-db8c-47b6-84a2-d0a1dba15ab6",
   "metadata": {},
   "outputs": [],
   "source": [
    "# raw data\n",
    "raw = pd.read_csv('owid-energy-data.csv')"
   ]
  },
  {
   "cell_type": "code",
   "execution_count": 36,
   "id": "8b1b1d2f-608e-4fad-abad-94662b00934a",
   "metadata": {},
   "outputs": [],
   "source": [
    "energyshares = ['country','year','biofuel_share_elec', 'coal_share_elec', 'gas_share_elec', 'hydro_share_elec', 'nuclear_share_elec', 'oil_share_elec', 'renewables_share_elec', 'solar_share_elec', 'wind_share_elec' ]\n",
    "energyShare = raw[energyshares]\n",
    "energyShare = energyShare[energyShare['year'] == 2020] # clustering for most recent year\n",
    "energyShare.isna().sum().sum()\n",
    "# 222 rows for 2020, 24 null values\n",
    "energyShare[energyShare.isna().any(axis=1)] # NaN values - Asia Pacific, CIS, Eastern Africa, Middle Africa, Non-OECD, USSR, Western Africa\n",
    "\n",
    "energyShare = energyShare.dropna() # left with 215 valid rows\n",
    "energyShare.reset_index(level=0, inplace=True)\n",
    "\n",
    "# create clusters across all shares\n",
    "kmeans = KMeans(n_clusters=3) # how many clusters should we do ?e\n",
    "cluster = kmeans.fit(energyShare[energyshares[2:]]) # seperate country and year columns\n",
    "energyShare['Cluster'] = kmeans.predict(energyShare[energyshares[2:]])"
   ]
  },
  {
   "cell_type": "code",
   "execution_count": 37,
   "id": "6c5d3698-0da5-41ac-aa76-3b7eceea9238",
   "metadata": {},
   "outputs": [
    {
     "data": {
      "image/png": "[encoded data removed]",
      "text/plain": [
       "<Figure size 360x360 with 1 Axes>"
      ]
     },
     "metadata": {
      "needs_background": "light"
     },
     "output_type": "display_data"
    }
   ],
   "source": [
    "# Overall energy share distribution\n",
    "energyShare[energyShare['Cluster'] == 0] # 62 rows\n",
    "energyShare[energyShare['Cluster'] == 1] #63 rows\n",
    "energyShare[energyShare['Cluster'] == 2] # 90 rows\n",
    "\n",
    "clustergraph = energyShare[['country', 'Cluster']].groupby('Cluster')\n",
    "plot = clustergraph.Cluster.hist(figsize=(5, 5))"
   ]
  },
  {
   "cell_type": "code",
   "execution_count": 46,
   "id": "93ef0551-a4a0-471a-abf6-c384cff65a33",
   "metadata": {},
   "outputs": [
    {
     "data": {
      "text/plain": [
       "array([[ 2.66801587e+00,  4.16857143e-01,  2.16074603e+00,\n",
       "         5.16066667e+00, -2.66453526e-15,  8.43788095e+01,\n",
       "         1.30436190e+01,  2.22201587e+00,  2.73446032e+00],\n",
       "       [ 4.54541935e+00,  4.59501613e+00,  5.57270968e+00,\n",
       "         6.40555000e+01,  1.83462903e+00,  1.11467258e+01,\n",
       "         7.68509677e+01,  1.63967742e+00,  4.31241935e+00],\n",
       "       [ 2.25628889e+00,  2.27167111e+01,  4.28918222e+01,\n",
       "         9.72933333e+00,  7.55998889e+00,  7.49061111e+00,\n",
       "         1.93424333e+01,  2.46842222e+00,  4.59565556e+00]])"
      ]
     },
     "execution_count": 46,
     "metadata": {},
     "output_type": "execute_result"
    }
   ],
   "source": [
    "kmeans.cluster_centers_\n",
    "# 'biofuel_share_elec', 'coal_share_elec', 'gas_share_elec', 'hydro_share_elec', 'nuclear_share_elec', 'oil_share_elec', 'renewables_share_elec', 'solar_share_elec', 'wind_share_elec'"
   ]
  },
  {
   "cell_type": "code",
   "execution_count": null,
   "id": "3b5a2c6b-6c71-4140-99c9-58838b7022e0",
   "metadata": {},
   "outputs": [],
   "source": []
  }
 ],
 "metadata": {
  "kernelspec": {
   "display_name": "Python 3 (ipykernel)",
   "language": "python",
   "name": "python3"
  },
  "language_info": {
   "codemirror_mode": {
    "name": "ipython",
    "version": 3
   },
   "file_extension": ".py",
   "mimetype": "text/x-python",
   "name": "python",
   "nbconvert_exporter": "python",
   "pygments_lexer": "ipython3",
   "version": "3.9.7"
  }
 },
 "nbformat": 4,
 "nbformat_minor": 5
}
