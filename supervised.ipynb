{
 "cells": [
  {
   "cell_type": "code",
   "execution_count": 30,
   "id": "b346bf13-dfb2-4d70-9348-926bb0836a51",
   "metadata": {},
   "outputs": [],
   "source": [
    "import pandas as pd\n",
    "import matplotlib.pyplot as plt\n",
    "import numpy as np\n",
    "from sklearn.model_selection import cross_validate\n",
    "from sklearn.tree import DecisionTreeRegressor\n",
    "from sklearn.model_selection import train_test_split\n",
    "from statistics import mean"
   ]
  },
  {
   "cell_type": "code",
   "execution_count": 3,
   "id": "93bba3f1-00ef-408e-a66b-97f6ef891448",
   "metadata": {},
   "outputs": [],
   "source": [
    "# raw data\n",
    "raw = pd.read_csv('owid-energy-data.csv')"
   ]
  },
  {
   "cell_type": "code",
   "execution_count": 33,
   "id": "9c571643-f24f-4a81-9b9b-63f487b75988",
   "metadata": {},
   "outputs": [
    {
     "name": "stdout",
     "output_type": "stream",
     "text": [
      "0.7625317827621148\n"
     ]
    }
   ],
   "source": [
    "energyshare = raw[['country','year','gdp', 'population','electricity_generation','fossil_share_energy']]\n",
    "energyshare = energyshare.dropna()\n",
    "y = energyshare[['fossil_share_energy']]\n",
    "X = energyshare[['year','gdp', 'population','electricity_generation']]\n",
    "X_train, X_test, y_train, y_test = train_test_split(X, y, test_size=0.2)\n",
    "decTree = DecisionTreeRegressor()\n",
    "cv_results = cross_validate(decTree, X_train, y_train, cv=5)\n",
    "score = mean(cv_results['test_score'])\n",
    "print(score)"
   ]
  },
  {
   "cell_type": "code",
   "execution_count": null,
   "id": "77c604c7-0844-4555-851f-4195578c1064",
   "metadata": {},
   "outputs": [],
   "source": []
  }
 ],
 "metadata": {
  "kernelspec": {
   "display_name": "Python 3 (ipykernel)",
   "language": "python",
   "name": "python3"
  },
  "language_info": {
   "codemirror_mode": {
    "name": "ipython",
    "version": 3
   },
   "file_extension": ".py",
   "mimetype": "text/x-python",
   "name": "python",
   "nbconvert_exporter": "python",
   "pygments_lexer": "ipython3",
   "version": "3.9.7"
  }
 },
 "nbformat": 4,
 "nbformat_minor": 5
}
